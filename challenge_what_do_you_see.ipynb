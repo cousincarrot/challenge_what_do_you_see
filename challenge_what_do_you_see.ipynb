{
 "cells": [
  {
   "cell_type": "markdown",
   "metadata": {},
   "source": [
    "Importing all our necessary libraries and more..."
   ]
  },
  {
   "cell_type": "code",
   "execution_count": 30,
   "metadata": {},
   "outputs": [],
   "source": [
    "import matplotlib.pyplot as plt\n",
    "%matplotlib inline\n",
    "import numpy as np\n",
    "import pandas as pd\n",
    "import re"
   ]
  },
  {
   "cell_type": "markdown",
   "metadata": {},
   "source": [
    "Constants of exchange rates (constant in this test case anyway.)"
   ]
  },
  {
   "cell_type": "code",
   "execution_count": 31,
   "metadata": {},
   "outputs": [],
   "source": [
    "cny_to_usd = 0.16\n",
    "jpy_to_usd = 0.0091\n",
    "krw_to_usd = 0.00093"
   ]
  },
  {
   "cell_type": "markdown",
   "metadata": {},
   "source": [
    "First we clean up the data a lot, namely fixing issues around objects (removing commas from digits in the thousands.)\n",
    "For some reason, each of these data sets is slightly different from the other in terms of data type, even though they were all from the same kaggle page.\n",
    "That's ok, we will clean it up for the guy.\n",
    "...and for us!"
   ]
  },
  {
   "cell_type": "markdown",
   "metadata": {},
   "source": [
    "US data on movie theater ticket sales:"
   ]
  },
  {
   "cell_type": "code",
   "execution_count": 32,
   "metadata": {},
   "outputs": [
    {
     "name": "stdout",
     "output_type": "stream",
     "text": [
      "9750739371\n",
      "10639505449\n",
      "10481895548\n",
      "10186927389\n",
      "11027529757\n",
      "10893180888\n",
      "10272864049\n",
      "11155547804\n",
      "11259225977\n",
      "10992920296\n",
      "   year ticket sold(1000) total gross(USD) # of screens Avg. ticket price  \\\n",
      "0  2008      1,358,041.40    9,750,739,371      38, 834            $7.18    \n",
      "1  2009      1,418,600.50   10,639,505,449       39,233            $7.50    \n",
      "2  2010      1,328,503.60   10,481,895,548       39,520            $7.89    \n",
      "3  2011      1,284,605.90   10,186,927,389       39,580            $7.93    \n",
      "4  2012      1,385,367.70   11,027,529,757       39,662            $7.96    \n",
      "5  2013      1,339,874.30   10,893,180,888       40,024            $8.13    \n",
      "6  2014      1,257,388.10   10,272,864,049       39,956            $8.17    \n",
      "7  2015      1,323,314.90   11,155,547,804       40,006            $8.43    \n",
      "8  2016      1,301,644.20   11,259,225,977       40,174            $8.65    \n",
      "9  2017      1,225,308.20   10,992,920,296       40,393            $8.97    \n",
      "\n",
      "   # of new movies released  total_gross_USD  avg_price  \n",
      "0                       607         9.750739       7.18  \n",
      "1                       521        10.639505       7.50  \n",
      "2                       537        10.481896       7.89  \n",
      "3                       602        10.186927       7.93  \n",
      "4                       668        11.027530       7.96  \n",
      "5                       689        10.893181       8.13  \n",
      "6                       706        10.272864       8.17  \n",
      "7                       705        11.155548       8.43  \n",
      "8                       736        11.259226       8.65  \n",
      "9                       729        10.992920       8.97  \n"
     ]
    }
   ],
   "source": [
    "us = pd.read_csv('Thinkful/unit2_working_with_files/the film industry_US_08-17_English.csv')\n",
    "us.infer_objects()\n",
    "\n",
    "x = 0\n",
    "#making a list with 5 entries at zero, to be added to. I'm sure there is a more elegant way\n",
    "# I just counted 5 data points\n",
    "str_change_usd = [0, 0, 0, 0, 0, 0, 0, 0, 0, 0]\n",
    "\n",
    "#making a new string, slicing out the comma, saving it to that string, then adding it to the 0 in each index of str_change_cny\n",
    "for string in us['total gross(USD)']:\n",
    "    string2 = string.replace(',', '') \n",
    "    print(string2)\n",
    "    str_change_usd[x] = string2\n",
    "    x+=1\n",
    "    #I needed to add to a new column outside the for loop in 'avg_price_USD' because the data is not saved from this process\n",
    "    \n",
    "us['total_gross_USD'] = pd.Series(str_change_usd)\n",
    "us['total_gross_USD'] = us['total_gross_USD'].astype('float64') / 1000000000\n",
    "\n",
    "# us['avg_price'] = us['Avg. ticket price'].str.extract('(.\\d?\\.\\d*)')\n",
    "us['avg_price'] = us['Avg. ticket price'].str[1:].astype('float64')\n",
    "#Read about regular expressions\n",
    "\n",
    "# us.info()\n",
    "\n",
    "print(us)"
   ]
  },
  {
   "cell_type": "markdown",
   "metadata": {},
   "source": [
    "China data on movie theater ticket sales:"
   ]
  },
  {
   "cell_type": "code",
   "execution_count": 33,
   "metadata": {},
   "outputs": [
    {
     "name": "stdout",
     "output_type": "stream",
     "text": [
      "16563400000\n",
      "21474030000\n",
      "29430420000\n",
      "43880450000\n",
      "45520440000\n",
      "   year ticket sold(1000) total gross(CNY) # of screens  Avg. ticket price  \\\n",
      "0  2012        463,260.00   16,563,400,000       13,118                 36   \n",
      "1  2013        614,240.00   21,474,030,000       18,195                 35   \n",
      "2  2014        834,310.00   29,430,420,000       23,592                 35   \n",
      "3  2015      1,260,890.00   43,880,450,000       31,627                 35   \n",
      "4  2016      1,373,630.00   45,520,440,000       41,056                 33   \n",
      "\n",
      "   # of new movies released  total_gross_USD  avg_price_USD  \n",
      "0                       394         2.650144           5.76  \n",
      "1                       345         3.435845           5.60  \n",
      "2                       389         4.708867           5.60  \n",
      "3                       522         7.020872           5.60  \n",
      "4                       531         7.283270           5.28  \n"
     ]
    }
   ],
   "source": [
    "china = pd.read_csv('Thinkful/unit2_working_with_files/the film industry_China_12-16_English.csv')\n",
    "china.infer_objects()\n",
    "#setting a counter in x\n",
    "x = 0\n",
    "#making a list with 5 entries at zero, to be added to. I'm sure there is a more elegant way\n",
    "# I just counted 5 data points\n",
    "str_change_cny = [0, 0, 0, 0, 0]\n",
    "\n",
    "#making a new string, slicing out the comma, saving it to that string, then adding it to the 0 in each index of str_change_cny\n",
    "for string in china['total gross(CNY)']:\n",
    "    string2 = string.replace(',', '') \n",
    "    print(string2)\n",
    "    str_change_cny[x] = string2\n",
    "    x+=1\n",
    "    #I needed to add to a new column outside the for loop in 'avg_price_USD' because the data is not saved from this process\n",
    "    \n",
    "china['total_gross_USD'] = pd.Series(str_change_cny)\n",
    "china['total_gross_USD'] = (china['total_gross_USD'].astype('float64') * float(cny_to_usd)) / 1000000000 \n",
    "\n",
    "china['avg_price_USD'] = china['Avg. ticket price'] * float(cny_to_usd)\n",
    "# This worked here because the data is not an object! Because there is no comma!\n",
    "# china['gross_USD'] = china['total gross(CNY)'] * float(cny_to_usd)\n",
    "\n",
    "print(china)"
   ]
  },
  {
   "cell_type": "markdown",
   "metadata": {},
   "source": [
    "Japan data on movie theater ticket sales:"
   ]
  },
  {
   "cell_type": "code",
   "execution_count": 34,
   "metadata": {},
   "outputs": [
    {
     "name": "stdout",
     "output_type": "stream",
     "text": [
      "<class 'pandas.core.frame.DataFrame'>\n",
      "RangeIndex: 10 entries, 0 to 9\n",
      "Data columns (total 6 columns):\n",
      "year                        10 non-null int64\n",
      "ticket sold(1000)           10 non-null object\n",
      "total gross(JPY)            10 non-null object\n",
      "# of screens                10 non-null object\n",
      "Avg. ticket price           10 non-null int64\n",
      "# of new movies released    10 non-null int64\n",
      "dtypes: int64(3), object(3)\n",
      "memory usage: 560.0+ bytes\n",
      "   year ticket sold(1000) total gross(JPY) # of screens  Avg. ticket price  \\\n",
      "0  2008           160,491  194,836,000,000        3,359               1214   \n",
      "1  2009           169,297  206,035,000,000        3,396               1217   \n",
      "2  2010           174,358  220,737,000,000        3,412               1266   \n",
      "3  2011           144,726  181,197,000,000        3,339               1252   \n",
      "4  2012           155,159  195,190,000,000        3,290               1258   \n",
      "5  2013           155,888  194,237,000,000        3,318               1246   \n",
      "6  2014           161,116  207,034,000,000        3,364               1285   \n",
      "7  2015           166,630  217,119,000,000        3,437               1303   \n",
      "8  2016           180,189  235,508,000,000        3,472               1307   \n",
      "9  2017           174,483  228,572,000,000        3,525               1310   \n",
      "\n",
      "   # of new movies released  total_gross_USD  avg_price_USD  \n",
      "0                       806         1.773008          11.05  \n",
      "1                       762         1.874918          11.07  \n",
      "2                       716         2.008707          11.52  \n",
      "3                       799         1.648893          11.39  \n",
      "4                       983         1.776229          11.45  \n",
      "5                      1117         1.767557          11.34  \n",
      "6                      1184         1.884009          11.69  \n",
      "7                      1136         1.975783          11.86  \n",
      "8                      1149         2.143123          11.89  \n",
      "9                      1187         2.080005          11.92  \n"
     ]
    }
   ],
   "source": [
    "japan = pd.read_csv('Thinkful/unit2_working_with_files/the film industry_Japan_08-17_English.csv')\n",
    "japan.infer_objects()\n",
    "japan.info()\n",
    "\n",
    "#setting a counter in x\n",
    "x = 0\n",
    "#making a list with 5 entries at zero, to be added to. I'm sure there is a more elegant way\n",
    "# I just counted 5 data points\n",
    "str_change_jpy = [0, 0, 0, 0, 0, 0, 0, 0, 0, 0]\n",
    "\n",
    "#making a new string, slicing out the comma, saving it to that string, then adding it to the 0 in each index of str_change_cny\n",
    "for string in japan['total gross(JPY)']:\n",
    "    string2 = string.replace(',', '') \n",
    "    str_change_jpy[x] = string2\n",
    "    x+=1\n",
    "    #I needed to add to a new column outside the for loop in 'avg_price_USD' because the data is not saved from this process\n",
    "    \n",
    "japan['total_gross_USD'] = pd.Series(str_change_jpy)\n",
    "japan['total_gross_USD'] = (japan['total_gross_USD'].astype('float64') * float(jpy_to_usd)) / 1000000000\n",
    "\n",
    "japan['avg_price_USD'] = round(japan['Avg. ticket price'] * float(jpy_to_usd), 2)\n",
    "print(japan)"
   ]
  },
  {
   "cell_type": "markdown",
   "metadata": {},
   "source": [
    "Korea data on movie theater ticket sales:"
   ]
  },
  {
   "cell_type": "code",
   "execution_count": 35,
   "metadata": {},
   "outputs": [
    {
     "name": "stdout",
     "output_type": "stream",
     "text": [
      "<class 'pandas.core.frame.DataFrame'>\n",
      "RangeIndex: 10 entries, 0 to 9\n",
      "Data columns (total 6 columns):\n",
      "year                        10 non-null int64\n",
      "ticket sold(1000)           10 non-null object\n",
      "total gross(KRW)            10 non-null object\n",
      "# of screens                10 non-null object\n",
      "Avg. ticket price           10 non-null object\n",
      "# of new movies released    10 non-null object\n",
      "dtypes: int64(1), object(5)\n",
      "memory usage: 560.0+ bytes\n",
      "6494\n",
      "6970\n",
      "7834\n",
      "7737\n",
      "7466\n",
      "7271\n",
      "7738\n",
      "7895\n",
      "8032\n",
      "7989\n",
      "   year ticket sold(1000)   total gross(KRW) # of screens Avg. ticket price  \\\n",
      "0  2008        147,428.60    961,453,297,251        2,004             6,494   \n",
      "1  2009        155,398.70  1,083,196,004,950        2,055             6,970   \n",
      "2  2010        147,759.20  1,157,254,738,250        2,003             7,834   \n",
      "3  2011        159,724.50  1,235,799,464,200        1,974             7,737   \n",
      "4  2012        194,890.60  1,455,140,354,435        2,081             7,466   \n",
      "5  2013        213,351.00  1,551,351,984,721        2,184             7,271   \n",
      "6  2014        215,069.00  1,664,232,549,160        2,281             7,738   \n",
      "7  2015        217,299.50  1,715,501,571,678        2,424             7,895   \n",
      "8  2016        217,026.20  1,743,194,424,370        2,575             8,032   \n",
      "9  2017        219,873.20  1,756,559,277,013        2,766             7,989   \n",
      "\n",
      "  # of new movies released  total_gross_USD  avg_price_USD  \n",
      "0                      380         0.894152           6.04  \n",
      "1                      361         1.007372           6.48  \n",
      "2                      426         1.076247           7.29  \n",
      "3                      439         1.149294           7.20  \n",
      "4                      631         1.353281           6.94  \n",
      "5                      905         1.442757           6.76  \n",
      "6                    1,095         1.547736           7.20  \n",
      "7                    1,176         1.595416           7.34  \n",
      "8                      578         1.621171           7.47  \n",
      "9                      620         1.633600           7.43  \n"
     ]
    }
   ],
   "source": [
    "korea = pd.read_csv('Thinkful/unit2_working_with_files/the film industry_SouthKorea_08-17_English.csv')\n",
    "korea.infer_objects()\n",
    "korea.info()\n",
    "\n",
    "#setting a counter in x\n",
    "x = 0\n",
    "#making a list with 5 entries at zero, to be added to. I'm sure there is a more elegant way\n",
    "# I just counted 5 data points\n",
    "str_change_krw = [0, 0, 0, 0, 0, 0, 0, 0, 0, 0]\n",
    "\n",
    "#making a new string, slicing out the comma, saving it to that string, then adding it to the 0 in each index of str_change_cny\n",
    "for string in korea['total gross(KRW)']:\n",
    "    string2 = string.replace(',', '') \n",
    "    str_change_krw[x] = string2\n",
    "    x+=1\n",
    "    #I needed to add to a new column outside the for loop in 'avg_price_USD' because the data is not saved from this process\n",
    "    \n",
    "korea['total_gross_USD'] = pd.Series(str_change_krw)\n",
    "korea['total_gross_USD'] = (korea['total_gross_USD'].astype('float64') * float(krw_to_usd)) / 1000000000\n",
    "\n",
    "\n",
    "#setting a counter in x\n",
    "x = 0\n",
    "#making a list with 10 entries at zero, to be added to. I'm sure there is a more elegant way\n",
    "# I just counted 10 data points in 'Avg. ticket price'\n",
    "str_change = [0, 0, 0, 0, 0, 0, 0, 0, 0, 0]\n",
    "\n",
    "#making a new string, slicing out the comma, saving it to that string, then adding it to the 0 in each index of str_change\n",
    "for string in korea['Avg. ticket price']:\n",
    "    string2 = string[:1] + string[2:] \n",
    "    print(string2)\n",
    "    str_change[x] = string2\n",
    "    x+=1\n",
    "    #I needed to add to a new column outside the for loop in 'avg_price_USD' because the data is not saved from this process\n",
    "\n",
    "#converting the list into a series so it can be added to the df    \n",
    "korea['avg_price_USD'] = pd.Series(str_change)\n",
    "#setting the type of data to float, then multiplying by an exchange rate constant, then rounding to 2 places\n",
    "korea['avg_price_USD'] = round((korea['avg_price_USD'].astype('float64') * float(krw_to_usd)), 2)\n",
    "\n",
    "print(korea)\n",
    "\n",
    "#The following is a whole lot of code trying to figure out how to remove the comma from the \"string\" of a thousand+\n",
    "\n",
    "# korea['avg_price'] = korea['Avg. ticket price'].str.extract('(\\d\\D\\d*)')\n",
    "#This shows me the first digit, then the anything BUT a digit (a comma, here) and then any number of digits after.\n",
    "#I do not know how to remove the comma using this process of indicating parts of the string via re\n",
    "\n",
    "# korea['avg_price_USD'] = korea['Avg. ticket price'].convert_objects(convert_numeric=True)\n",
    "#This did not work\n",
    "\n",
    "# korea['avg_price'] = korea['Avg. ticket price'].astype('float64')\n",
    "#This didn't convert the string to a float\n",
    "\n",
    "# korea['Avg. ticket price USD'] = korea['Avg. ticket price'] * float(krw_to_usd)\n",
    "#This doesn't work because of the object issue! Once I removed the comma it worked, though!\n"
   ]
  },
  {
   "cell_type": "markdown",
   "metadata": {},
   "source": [
    "Here we will see the comparison of the amount of new releases by country and year."
   ]
  },
  {
   "cell_type": "code",
   "execution_count": 49,
   "metadata": {},
   "outputs": [
    {
     "data": {
      "image/png": "[encoded data removed]",
      "text/plain": [
       "<matplotlib.figure.Figure at 0x22ddee63cf8>"
      ]
     },
     "metadata": {},
     "output_type": "display_data"
    }
   ],
   "source": [
    "plt.figure(figsize=(14,9))\n",
    "\n",
    "plt.bar(\n",
    "    x=np.array(us['year'] - 0.4),\n",
    "    height=np.array(us['# of new movies released']),\n",
    "    color='blue',\n",
    "    label='United States',\n",
    "    width=0.2,\n",
    "    alpha=1,\n",
    ") \n",
    "\n",
    "plt.bar(\n",
    "    x=np.array(china['year'] + 0.4),\n",
    "    height=np.array(china['# of new movies released']),\n",
    "    color='#ff3333',\n",
    "    label='China',\n",
    "    width=0.2,\n",
    "    alpha=1\n",
    ") \n",
    "\n",
    "plt.bar(\n",
    "    x=japan['year'] - 0.2,\n",
    "    height=japan['# of new movies released'],\n",
    "    color='#ffbbcc',\n",
    "    label='Japan',\n",
    "    width=0.2,\n",
    "    alpha=1\n",
    ")\n",
    "\n",
    "# plt.bar(\n",
    "#     x=korea['year'] + 0.2,\n",
    "#     height=korea['# of new movies released'],\n",
    "#     color='#ffaa22',\n",
    "#     label='Korea',\n",
    "#     width=0.2,\n",
    "#     alpha=1\n",
    "#   )\n",
    "\n",
    "plt.title('New Movie Releases by Country and Year')\n",
    "plt.xlabel('Year')\n",
    "plt.ylabel('# of new movies released')\n",
    "\n",
    "plt.legend(loc='upper center', bbox_to_anchor=(1.2, 1), shadow=True, ncol=1)\n",
    "\n",
    "plt.show()\n",
    "\n",
    "#I don't know why the korean numbers appear so low on the graph when I turn that plot on.\n",
    "#They are razor thin and varying a little bit and the Y label values shrink down to the x axis also"
   ]
  },
  {
   "cell_type": "markdown",
   "metadata": {},
   "source": [
    "The data above shows that Japan releases almost 200% the amount of movies compared to China or Korea,\n",
    "and in more recent years about 150% the amount compared to the US. Why are there so many more new movies released in Japan?\n",
    "(We don't have data from China until 2012.)"
   ]
  },
  {
   "cell_type": "code",
   "execution_count": 37,
   "metadata": {},
   "outputs": [
    {
     "name": "stdout",
     "output_type": "stream",
     "text": [
      "United States 0    607\n",
      "1    521\n",
      "2    537\n",
      "3    602\n",
      "4    668\n",
      "5    689\n",
      "6    706\n",
      "7    705\n",
      "8    736\n",
      "9    729\n",
      "Name: # of new movies released, dtype: int64\n",
      "China 0    394\n",
      "1    345\n",
      "2    389\n",
      "3    522\n",
      "4    531\n",
      "Name: # of new movies released, dtype: int64\n",
      "Japan 0     806\n",
      "1     762\n",
      "2     716\n",
      "3     799\n",
      "4     983\n",
      "5    1117\n",
      "6    1184\n",
      "7    1136\n",
      "8    1149\n",
      "9    1187\n",
      "Name: # of new movies released, dtype: int64\n",
      "Korea 0      380\n",
      "1      361\n",
      "2      426\n",
      "3      439\n",
      "4      631\n",
      "5      905\n",
      "6    1,095\n",
      "7    1,176\n",
      "8      578\n",
      "9      620\n",
      "Name: # of new movies released, dtype: object\n"
     ]
    }
   ],
   "source": [
    "print('United States', us['# of new movies released'])\n",
    "print('China', china['# of new movies released'])\n",
    "print('Japan', japan['# of new movies released'])\n",
    "print('Korea', korea['# of new movies released'])"
   ]
  },
  {
   "cell_type": "markdown",
   "metadata": {},
   "source": [
    "Line graph depicting average ticket price by year and country."
   ]
  },
  {
   "cell_type": "code",
   "execution_count": 50,
   "metadata": {},
   "outputs": [
    {
     "data": {
      "image/png": "[encoded data removed]",
      "text/plain": [
       "<matplotlib.figure.Figure at 0x22ddf35ce48>"
      ]
     },
     "metadata": {},
     "output_type": "display_data"
    }
   ],
   "source": [
    "plt.figure(figsize=(14,9))\n",
    "plt.plot(\n",
    "    x=us['year'],\n",
    "    y=us['avg_price'],\n",
    "    c='blue',\n",
    "#     marker='o',\n",
    "#     s=150,\n",
    "    alpha=.75\n",
    ")\n",
    "\n",
    "plt.plot(\n",
    "    x=china['year'],\n",
    "    y=china['avg_price_USD'],\n",
    "    c='#ff3333',\n",
    "#     marker='o',\n",
    "#     s=150,\n",
    "    alpha=.75\n",
    ")\n",
    "\n",
    "plt.plot(\n",
    "    x=japan['year'],\n",
    "    y=japan['avg_price_USD'],\n",
    "    c='#ffbbcc',\n",
    "#     marker='o',\n",
    "#     s=150,\n",
    "    alpha=.75\n",
    ")\n",
    "\n",
    "plt.plot(\n",
    "    x=korea['year'],\n",
    "    y=korea['avg_price_USD'],\n",
    "    c='#ffaa22',\n",
    "#     marker='o',\n",
    "#     s=150,\n",
    "    alpha=.75\n",
    ")\n",
    "\n",
    "plt.ylabel('Ticket Prices')\n",
    "plt.xlabel('Year')\n",
    "plt.title('Ticket Prices by Country and Year')\n",
    "\n",
    "# plt.legend(loc='upper center', bbox_to_anchor=(1.2, 1), shadow=True, ncol=1, labelspacing=1)\n",
    "\n",
    "\n",
    "plt.show()"
   ]
  },
  {
   "cell_type": "markdown",
   "metadata": {},
   "source": [
    "Normalized scatter graphs comparing ticket price."
   ]
  },
  {
   "cell_type": "code",
   "execution_count": 51,
   "metadata": {},
   "outputs": [
    {
     "data": {
      "image/png": "[encoded data removed]",
      "text/plain": [
       "<matplotlib.figure.Figure at 0x22dde5b7358>"
      ]
     },
     "metadata": {},
     "output_type": "display_data"
    }
   ],
   "source": [
    "us['normalized_us'] = (us['avg_price'] - us['avg_price'].mean()) / (us['avg_price'].max() - us['avg_price'].min())\n",
    "china['normalized_china'] = (china['avg_price_USD'] - china['avg_price_USD'].mean()) / (china['avg_price_USD'].max() - china['avg_price_USD'].min())\n",
    "japan['normalized_japan'] = (japan['avg_price_USD'] - japan['avg_price_USD'].mean()) / (japan['avg_price_USD'].max() - japan['avg_price_USD'].min())\n",
    "korea['normalized_korea'] = (korea['avg_price_USD'] - korea['avg_price_USD'].mean()) / (korea['avg_price_USD'].max() - korea['avg_price_USD'].min())\n",
    "\n",
    "plt.figure(figsize=(14,9))\n",
    "\n",
    "plt.scatter(\n",
    "    x=us['year'],\n",
    "    y=us['normalized_us'],\n",
    "    c='blue',\n",
    "    marker='o',\n",
    "    s=150,\n",
    "    alpha=.75\n",
    ")\n",
    "\n",
    "plt.scatter(\n",
    "    x=china['year'],\n",
    "    y=china['normalized_china'],\n",
    "    c='#ff3333',\n",
    "    marker='o',\n",
    "    s=150,\n",
    "    alpha=.75\n",
    ")\n",
    "\n",
    "plt.scatter(\n",
    "    x=japan['year'],\n",
    "    y=japan['normalized_japan'],\n",
    "    c='#ffbbcc',\n",
    "    marker='o',\n",
    "    s=150,\n",
    "    alpha=.75\n",
    ")\n",
    "\n",
    "plt.scatter(\n",
    "    x=korea['year'],\n",
    "    y=korea['normalized_korea'],\n",
    "    c='#ffaa22',\n",
    "    marker='o',\n",
    "    s=150,\n",
    "    alpha=.75\n",
    ")\n",
    "\n",
    "plt.ylabel('Ticket Prices')\n",
    "plt.xlabel('Year')\n",
    "plt.title('Ticket Prices by Country and Year')\n",
    "\n",
    "plt.legend(loc='upper center', bbox_to_anchor=(1.2, 1), shadow=True, ncol=1, labelspacing=1)\n",
    "\n",
    "\n",
    "\n",
    "plt.show()"
   ]
  },
  {
   "cell_type": "markdown",
   "metadata": {},
   "source": [
    "Here we see the ticket prices follow a similar pattern year by year, with the obvious exception of China's in 2016."
   ]
  },
  {
   "cell_type": "code",
   "execution_count": 40,
   "metadata": {},
   "outputs": [
    {
     "data": {
      "image/png": "[encoded data removed]",
      "text/plain": [
       "<matplotlib.figure.Figure at 0x22ddf461470>"
      ]
     },
     "metadata": {},
     "output_type": "display_data"
    }
   ],
   "source": [
    "plt.boxplot(china['avg_price_USD'])\n",
    "plt.show()"
   ]
  },
  {
   "cell_type": "markdown",
   "metadata": {},
   "source": [
    "Here we can see total gross sales in USD for each country."
   ]
  },
  {
   "cell_type": "code",
   "execution_count": 52,
   "metadata": {},
   "outputs": [
    {
     "data": {
      "image/png": "[encoded data removed]",
      "text/plain": [
       "<matplotlib.figure.Figure at 0x22ddf3d6c18>"
      ]
     },
     "metadata": {},
     "output_type": "display_data"
    }
   ],
   "source": [
    "plt.figure(figsize=(14,9))\n",
    "\n",
    "plt.plot(\n",
    "    x=us['year'],\n",
    "    y=us['total_gross_USD'],\n",
    "    c='blue',\n",
    "#     marker='o',\n",
    "#     s=150,\n",
    "    alpha=.75\n",
    ")\n",
    "\n",
    "plt.plot(\n",
    "    x=china['year'],\n",
    "    y=china['total_gross_USD'],\n",
    "    c='#ff3333',\n",
    "#     marker='o',\n",
    "#     s=150,\n",
    "    alpha=.75\n",
    ")\n",
    "\n",
    "plt.plot(\n",
    "    x=japan['year'],\n",
    "    y=japan['total_gross_USD'],\n",
    "    c='#ffbbcc',\n",
    "#     marker='o',\n",
    "#     s=150,\n",
    "    alpha=.75\n",
    ")\n",
    "\n",
    "plt.plot(\n",
    "    x=korea['year'],\n",
    "    y=korea['total_gross_USD'],\n",
    "    c='#ffaa22',\n",
    "#     marker='o',\n",
    "#     s=150,\n",
    "    alpha=.75\n",
    ")\n",
    "\n",
    "plt.ylabel('Ticket Prices')\n",
    "plt.xlabel('Year')\n",
    "plt.title('Ticket Prices by Country and Year')\n",
    "\n",
    "# plt.legend(loc='upper center', bbox_to_anchor=(1.2, 1), shadow=True, ncol=1, labelspacing=1)\n",
    "\n",
    "\n",
    "plt.show()"
   ]
  },
  {
   "cell_type": "code",
   "execution_count": null,
   "metadata": {},
   "outputs": [],
   "source": []
  },
  {
   "cell_type": "code",
   "execution_count": null,
   "metadata": {},
   "outputs": [],
   "source": []
  },
  {
   "cell_type": "code",
   "execution_count": null,
   "metadata": {},
   "outputs": [],
   "source": []
  }
 ],
 "metadata": {
  "kernelspec": {
   "display_name": "Python 3",
   "language": "python",
   "name": "python3"
  },
  "language_info": {
   "codemirror_mode": {
    "name": "ipython",
    "version": 3
   },
   "file_extension": ".py",
   "mimetype": "text/x-python",
   "name": "python",
   "nbconvert_exporter": "python",
   "pygments_lexer": "ipython3",
   "version": "3.6.4"
  }
 },
 "nbformat": 4,
 "nbformat_minor": 2
}
